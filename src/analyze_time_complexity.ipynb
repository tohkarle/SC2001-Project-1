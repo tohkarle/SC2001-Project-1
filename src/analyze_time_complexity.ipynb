{
 "cells": [
  {
   "cell_type": "markdown",
   "metadata": {},
   "source": [
    "# Analyze Time Complexity"
   ]
  },
  {
   "cell_type": "markdown",
   "metadata": {},
   "source": [
    "In this Jupyter Notebok, we will be analyzing the time complexity of the Hybrid Sort Algorithm.\n",
    "\n",
    "We carried out 3 Empirical Analysis to see whether our findings are consistent with our Theoretical Analysis:\n",
    "1. `Number of key comparisons VS Input sizes`\n",
    "    <br>\n",
    "    We fixed the value of S at 99, and plot the number of key comparisons over different sizes of the input list n ranging from 1000 to 10_000_000 on a logarithmic scale. Each data point is the average result of 10 random tests.\n",
    "    <br><br>\n",
    "2. `Number of key comparisons VS S values`\n",
    "    <br>\n",
    "    We fixed the input size n at 1000, and plot the number of key comparisons over different values of S ranging from 2 to 20 on a logarithmic scale. Each data point is the average result of 10 random tests. As for how we decide the range of S values, please see `determine_max_s.ipynb`.\n",
    "    <br><br>\n",
    "3. `Determine the optimal S value`\n",
    "    <br>\n",
    "    We realized that S is simply the threshold array size in which the Insertion Sort performs better than the Mergesort. So we plot the graph of Average Key Comparisons VS Array Sizes (S) for both Insertion Sort and Mergersort, and find the intersection point."
   ]
  },
  {
   "cell_type": "markdown",
   "metadata": {},
   "source": [
    "## 1. Import Required Libraries"
   ]
  },
  {
   "cell_type": "code",
   "execution_count": null,
   "metadata": {},
   "outputs": [],
   "source": [
    "from hybrid_sort import HybridSort\n",
    "from hybrid_sort_key_cmp import HybridSortKeyCmp\n",
    "\n",
    "import matplotlib.pyplot as plt"
   ]
  },
  {
   "cell_type": "markdown",
   "metadata": {},
   "source": [
    "## 2. Empirical Analysis"
   ]
  },
  {
   "cell_type": "markdown",
   "metadata": {},
   "source": [
    "### 2.0 Declare constants"
   ]
  },
  {
   "cell_type": "code",
   "execution_count": null,
   "metadata": {},
   "outputs": [],
   "source": [
    "S_FIXED = 99\n",
    "MIN_INPUT_SIZE = 1000\n",
    "MAX_INPUT_SIZE = 10_000_000\n",
    "\n",
    "INPUT_SIZE_FIXED = 1000\n",
    "MIN_S = 2\n",
    "MAX_S = 20\n",
    "\n",
    "RANDOM_TESTS = 10"
   ]
  },
  {
   "cell_type": "markdown",
   "metadata": {},
   "source": [
    "### 2.1 Number of key comparisons VS Input sizes"
   ]
  },
  {
   "cell_type": "code",
   "execution_count": null,
   "metadata": {},
   "outputs": [],
   "source": [
    "input_sizes, average_key_cmps = HybridSortKeyCmp.average_key_cmps_with_s_fixed(MIN_INPUT_SIZE, MAX_INPUT_SIZE, S_FIXED, RANDOM_TESTS)\n",
    "\n",
    "plt.plot(input_sizes, average_key_cmps, linestyle='-')\n",
    "\n",
    "plt.xlabel('Input Sizes')\n",
    "plt.ylabel('Average Key Comparisons')\n",
    "plt.title('Average Key Comparisons vs. Input Sizes')\n",
    "\n",
    "plt.show()"
   ]
  },
  {
   "cell_type": "markdown",
   "metadata": {},
   "source": [
    "### 2.2 Number of key comparisons VS S values"
   ]
  },
  {
   "cell_type": "code",
   "execution_count": null,
   "metadata": {},
   "outputs": [],
   "source": [
    "s_values, average_key_cmps = HybridSortKeyCmp.average_key_cmps_with_n_fixed(MIN_S, MAX_S, INPUT_SIZE_FIXED, RANDOM_TESTS)\n",
    "\n",
    "plt.plot(s_values, average_key_cmps, linestyle='-')\n",
    "\n",
    "plt.xlabel('S Values')\n",
    "plt.ylabel('Average Key Comparisons')\n",
    "plt.title('Average Key Comparisons vs. S Values')\n",
    "\n",
    "plt.show()"
   ]
  },
  {
   "cell_type": "markdown",
   "metadata": {},
   "source": [
    "### 2.3 Determine the optimal S value"
   ]
  },
  {
   "cell_type": "code",
   "execution_count": null,
   "metadata": {},
   "outputs": [],
   "source": [
    "insertion_sort_array_sizes, mergesort_average_key_cmps, insertion_sort_average_key_cmps = HybridSortKeyCmp.average_key_cmps_for_optimal_s(MIN_S, MAX_S, RANDOM_TESTS)\n",
    "mergesort_array_sizes = insertion_sort_array_sizes\n",
    "\n",
    "plt.plot(insertion_sort_array_sizes, insertion_sort_average_key_cmps, label='Insetion Sort', linestyle='-')\n",
    "plt.plot(mergesort_array_sizes, mergesort_average_key_cmps, label='Mergesort', linestyle='-')\n",
    "\n",
    "plt.xlabel('Array Sizes')\n",
    "plt.ylabel('Average Key Comparisons')\n",
    "plt.title('Average Key Comparisons vs. Array Sizes')\n",
    "\n",
    "plt.legend()\n",
    "\n",
    "plt.show()"
   ]
  }
 ],
 "metadata": {
  "kernelspec": {
   "display_name": "Python 3",
   "language": "python",
   "name": "python3"
  },
  "language_info": {
   "codemirror_mode": {
    "name": "ipython",
    "version": 3
   },
   "file_extension": ".py",
   "mimetype": "text/x-python",
   "name": "python",
   "nbconvert_exporter": "python",
   "pygments_lexer": "ipython3",
   "version": "3.10.6"
  }
 },
 "nbformat": 4,
 "nbformat_minor": 2
}
