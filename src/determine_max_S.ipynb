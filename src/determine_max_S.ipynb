{
 "cells": [
  {
   "cell_type": "markdown",
   "metadata": {},
   "source": [
    "# Determine Max S Value"
   ]
  },
  {
   "cell_type": "markdown",
   "metadata": {},
   "source": [
    "In this Jupyter Notebook, we will go into details on how we determine maximum S value so that we can set the range of S values for plotting the graph of `Average Key Comparisons VS S Values`."
   ]
  },
  {
   "cell_type": "markdown",
   "metadata": {},
   "source": [
    "First, we set the minimum value of S to be 2 since there is no need to even sort if the array has 1 or lesser number of element. We decided to set the maximum value of S to be 1000 to be safe, since insertion sort on 1000 elements must be really slow, so we decided to set a large initial maximum S value and slowly narrow it down."
   ]
  },
  {
   "cell_type": "code",
   "execution_count": null,
   "metadata": {},
   "outputs": [],
   "source": [
    "from hybrid_sort_key_cmp import HybridSortKeyCmp\n",
    "import matplotlib.pyplot as plt\n",
    "\n",
    "MIN_S = 2\n",
    "MAX_S = 1000\n",
    "INPUT_SIZE = 1000\n",
    "RANDOM_TESTS = 10"
   ]
  },
  {
   "cell_type": "code",
   "execution_count": null,
   "metadata": {},
   "outputs": [],
   "source": [
    "s_values, average_key_cmps = HybridSortKeyCmp.average_key_cmps_with_n_fixed(MIN_S, MAX_S, INPUT_SIZE, RANDOM_TESTS)\n",
    "\n",
    "plt.plot(s_values, average_key_cmps, linestyle='-')\n",
    "\n",
    "plt.xlabel('S Values')\n",
    "plt.ylabel('Average Key Comparisons')\n",
    "plt.title('Average Key Comparisons vs. S Values')\n",
    "\n",
    "plt.show()"
   ]
  },
  {
   "cell_type": "markdown",
   "metadata": {},
   "source": [
    "### General Upwards Trend\n",
    "\n",
    "As seen from the graph, there is a general upwards trend, such that the higher the value of S, the greater the average key comparisons.\n",
    "\n",
    "However, we are interested in finding the optimal S value for the best performance of the hybrid sort algorithm, and this trend is not very informative because the range is too big. \n",
    "\n",
    "We need to further narrow the range of the S values in order to omit the S values with higher numbers of average key comparisons (bad performance) since they won't be useful in finding the optimal S value.\n",
    "\n",
    "On further observation, we can see that the least number of key comparisons revolve around the 2-100 range, so we can reduce MAX_S to 100 to zoom into the portion where the S values perform better."
   ]
  },
  {
   "cell_type": "code",
   "execution_count": null,
   "metadata": {},
   "outputs": [],
   "source": [
    "s_values, average_key_cmps = HybridSortKeyCmp.average_key_cmps_with_n_fixed(MIN_S, 100, INPUT_SIZE, RANDOM_TESTS)\n",
    "\n",
    "plt.plot(s_values, average_key_cmps, linestyle='-')\n",
    "\n",
    "plt.xlabel('S Values')\n",
    "plt.ylabel('Average Key Comparisons')\n",
    "plt.title(f'Average Key Comparisons vs. S Values')\n",
    "\n",
    "plt.show()"
   ]
  },
  {
   "cell_type": "markdown",
   "metadata": {},
   "source": [
    "### Similar Upwards Trend\n",
    "\n",
    "Again, we are seeing a similar upwards trend as when the range was 2-1000, which means we can further narrow the range to filter out the S values with poor performance.\n",
    "\n",
    "Fortunately, from the graph, we can see that between the range 2-20, the number of average key comparisons seems to be the lowest, which means the S values within this range perform the best. Therefore, we are going to set the MAX_S to be 20 and narrow the range further for a more informative and conclusive graph."
   ]
  },
  {
   "cell_type": "code",
   "execution_count": null,
   "metadata": {},
   "outputs": [],
   "source": [
    "s_values, average_key_cmps = HybridSortKeyCmp.average_key_cmps_with_n_fixed(MIN_S, 20, INPUT_SIZE, RANDOM_TESTS)\n",
    "\n",
    "plt.plot(s_values, average_key_cmps, linestyle='-')\n",
    "\n",
    "plt.xlabel('S Values')\n",
    "plt.ylabel('Average Key Comparisons')\n",
    "plt.title(f'Average Key Comparisons vs. S Values')\n",
    "\n",
    "plt.show()"
   ]
  },
  {
   "cell_type": "code",
   "execution_count": null,
   "metadata": {},
   "outputs": [],
   "source": []
  }
 ],
 "metadata": {
  "kernelspec": {
   "display_name": "Python 3",
   "language": "python",
   "name": "python3"
  },
  "language_info": {
   "codemirror_mode": {
    "name": "ipython",
    "version": 3
   },
   "file_extension": ".py",
   "mimetype": "text/x-python",
   "name": "python",
   "nbconvert_exporter": "python",
   "pygments_lexer": "ipython3",
   "version": "3.10.6"
  }
 },
 "nbformat": 4,
 "nbformat_minor": 2
}
