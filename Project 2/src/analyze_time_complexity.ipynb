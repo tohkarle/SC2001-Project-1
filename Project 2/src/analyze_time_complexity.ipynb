{
 "cells": [
  {
   "cell_type": "code",
   "execution_count": null,
   "metadata": {},
   "outputs": [],
   "source": [
    "from DijkstraA import Dijkstra\n",
    "from GraphGeneratorA import GraphGenerator"
   ]
  },
  {
   "cell_type": "code",
   "execution_count": null,
   "metadata": {},
   "outputs": [],
   "source": [
    "num_vertices = 20\n",
    "num_edges = 40\n",
    "\n",
    "# Generate a random graph\n",
    "vertices, edges = GraphGenerator.generate_random_graph(num_vertices, num_edges)\n",
    "\n",
    "# Convert the edges into an adjacency matrix\n",
    "adjacency_matrix = [[0] * num_vertices for _ in range(num_vertices)]\n",
    "for edge in edges:\n",
    "    adjacency_matrix[edge.start_vertex.vertex_id][edge.end_vertex.vertex_id] = edge.weight\n",
    "\n",
    "# Perform Dijkstra's algorithm starting from the first vertex\n",
    "Dijkstra.dijkstra(adjacency_matrix, vertices, vertices[0])"
   ]
  }
 ],
 "metadata": {
  "kernelspec": {
   "display_name": "Python 3",
   "language": "python",
   "name": "python3"
  },
  "language_info": {
   "codemirror_mode": {
    "name": "ipython",
    "version": 3
   },
   "file_extension": ".py",
   "mimetype": "text/x-python",
   "name": "python",
   "nbconvert_exporter": "python",
   "pygments_lexer": "ipython3",
   "version": "3.10.6"
  }
 },
 "nbformat": 4,
 "nbformat_minor": 2
}
