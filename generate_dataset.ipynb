{
 "cells": [
  {
   "cell_type": "markdown",
   "metadata": {},
   "source": [
    "# Hybrid Algorithm Implementation"
   ]
  },
  {
   "cell_type": "markdown",
   "metadata": {},
   "source": [
    "In this Jupyter notebook, we will implement the Hybrid Sort Algorithm, which combines the efficiency of Merge Sort and the simplicity of Insertion Sort. The notebook's structure will follow these key steps:\n",
    "\n",
    "1. `Mergesort Function`: We'll begin by defining the Mergesort function, which serves as one of the fundamental components of our hybrid sorting algorithm.\n",
    "\n",
    "2. `Insertion Sort Function`: Next, we will define the Insertion Sort function, a simpler but efficient sorting method that complements Mergesort in our hybrid approach.\n",
    "\n",
    "3. `Hybrid Sort Function`: Finally, we will combine the power of Mergesort and the practicality of Insertion Sort to create our Hybrid Sort function. This hybrid approach aims to provide a well-balanced sorting algorithm that performs efficiently in various scenarios.\n",
    "\n",
    "Throughout this notebook, we will explore and implement these functions, showcasing the advantages of hybrid sorting and demonstrating their practicality in sorting tasks."
   ]
  },
  {
   "cell_type": "markdown",
   "metadata": {},
   "source": [
    "## 1. Mergesort Function"
   ]
  },
  {
   "cell_type": "markdown",
   "metadata": {},
   "source": [
    "### 1.1 Define Mergesort Function"
   ]
  },
  {
   "cell_type": "code",
   "execution_count": 6,
   "metadata": {},
   "outputs": [],
   "source": [
    "def merge_sort(arr):\n",
    "    if len(arr) > 1:\n",
    "\n",
    "        # Partition list into 2 equal size\n",
    "        mid = len(arr) // 2\n",
    "        left_half = arr[:mid]\n",
    "        right_half = arr[mid:]\n",
    "\n",
    "        # Mergesort left_half and right_half\n",
    "        merge_sort(left_half)\n",
    "        merge_sort(right_half)\n",
    "\n",
    "        i = j = k = 0\n",
    "\n",
    "        # Compare the first element of the 2 halves\n",
    "        while i < len(left_half) and j < len(right_half):\n",
    "\n",
    "            # If left_half[i] is smaller, left_half[i] joins the end of the merged list\n",
    "            if left_half[i] < right_half[j]:\n",
    "                arr[k] = left_half[i]\n",
    "                i += 1\n",
    "            \n",
    "            # Else if right_half[j] is smaller, right_half[j] joins the end of the merged list\n",
    "            else:\n",
    "                arr[k] = right_half[j]\n",
    "                j += 1\n",
    "            \n",
    "            k += 1\n",
    "\n",
    "        # For the left over left_half\n",
    "        while i < len(left_half):\n",
    "            arr[k] = left_half[i]\n",
    "            i += 1\n",
    "            k += 1\n",
    "\n",
    "        # For the left over right_half\n",
    "        while j < len(right_half):\n",
    "            arr[k] = right_half[j]\n",
    "            j += 1\n",
    "            k += 1"
   ]
  },
  {
   "cell_type": "markdown",
   "metadata": {},
   "source": [
    "### 1.2 Test Mergesort Function"
   ]
  },
  {
   "cell_type": "code",
   "execution_count": 7,
   "metadata": {},
   "outputs": [],
   "source": [
    "test_cases = [\n",
    "    [5, 2, 9, 3, 6],\n",
    "    [1, 2, 3, 4, 5],\n",
    "    [5, 4, 3, 2, 1],\n",
    "    [],\n",
    "    [7],\n",
    "]"
   ]
  },
  {
   "cell_type": "code",
   "execution_count": 10,
   "metadata": {},
   "outputs": [
    {
     "name": "stdout",
     "output_type": "stream",
     "text": [
      "Input: [5, 2, 9, 3, 6], Sorted: [2, 3, 5, 6, 9]\n",
      "Input: [1, 2, 3, 4, 5], Sorted: [1, 2, 3, 4, 5]\n",
      "Input: [5, 4, 3, 2, 1], Sorted: [1, 2, 3, 4, 5]\n",
      "Input: [], Sorted: []\n",
      "Input: [7], Sorted: [7]\n"
     ]
    }
   ],
   "source": [
    "def test_merge_sort():\n",
    "    for test_case in test_cases:\n",
    "        # Create a copy of the test case to keep the original data intact\n",
    "        arr = test_case.copy()\n",
    "\n",
    "        # Sort the array using your merge_sort function\n",
    "        merge_sort(arr)\n",
    "\n",
    "        # Check if the sorted array is in ascending order\n",
    "        assert arr == sorted(test_case), f\"Test failed for input: {test_case}\"\n",
    "\n",
    "        # Print the sorted array\n",
    "        print(f\"Input: {test_case}, Sorted: {arr}\")\n",
    "\n",
    "# Run the testing function\n",
    "test_merge_sort()"
   ]
  }
 ],
 "metadata": {
  "kernelspec": {
   "display_name": "Python 3",
   "language": "python",
   "name": "python3"
  },
  "language_info": {
   "codemirror_mode": {
    "name": "ipython",
    "version": 3
   },
   "file_extension": ".py",
   "mimetype": "text/x-python",
   "name": "python",
   "nbconvert_exporter": "python",
   "pygments_lexer": "ipython3",
   "version": "3.10.6"
  }
 },
 "nbformat": 4,
 "nbformat_minor": 2
}
