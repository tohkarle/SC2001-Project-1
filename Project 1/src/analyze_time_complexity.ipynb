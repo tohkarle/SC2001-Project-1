{
 "cells": [
  {
   "cell_type": "markdown",
   "metadata": {},
   "source": [
    "# Analyze Time Complexity"
   ]
  },
  {
   "cell_type": "markdown",
   "metadata": {},
   "source": [
    "In this Jupyter Notebok, we will be analyzing the time complexity of the Hybrid Sort Algorithm.\n",
    "\n",
    "We carried out 3 Empirical Analysis to see whether our findings are consistent with our Theoretical Analysis:\n",
    "1. `Number of key comparisons VS Input sizes`\n",
    "    <br>\n",
    "    We fixed the value of S at 10, and plot the number of key comparisons over different sizes of the input list n ranging from 1000 to 10_000_000 on a logarithmic scale. Each data point is the average result of 10 random tests.\n",
    "    <br><br>\n",
    "2. `Number of key comparisons VS S values`\n",
    "    <br>\n",
    "    We fixed the input size n at 1000, and plot the number of key comparisons over different values of S ranging from 2 to 1000. Each data point is the average result of 10 random tests. We also decided to further narrow the range of S as we were carrying out the test for more informative and conslusive trend.\n",
    "    <br><br>\n",
    "3. `Determine the optimal S value`\n",
    "    <br>\n",
    "    We realized that S is simply the threshold array size in which the Insertion Sort performs better than the Mergesort. So we plot the graph of Average Key Comparisons VS Array Sizes (S) for both Insertion Sort and Mergersort, and find the intersection point."
   ]
  },
  {
   "cell_type": "markdown",
   "metadata": {},
   "source": [
    "# Import Required Libraries"
   ]
  },
  {
   "cell_type": "code",
   "execution_count": null,
   "metadata": {},
   "outputs": [],
   "source": [
    "from hybrid_sort_key_cmp import HybridSortKeyCmp\n",
    "\n",
    "import matplotlib.pyplot as plt"
   ]
  },
  {
   "cell_type": "markdown",
   "metadata": {},
   "source": [
    "# Declare constants"
   ]
  },
  {
   "cell_type": "code",
   "execution_count": null,
   "metadata": {},
   "outputs": [],
   "source": [
    "S_FIXED_LOW = 10\n",
    "S_FIXED_HIGH = 9_000_000\n",
    "S_FIXED_MIDDLE = 5000\n",
    "MIN_INPUT_SIZE = 1000\n",
    "MAX_INPUT_SIZE = 10_000_000\n",
    "\n",
    "INPUT_SIZE_FIXED = 1000\n",
    "MIN_S = 2\n",
    "MAX_S = 1000\n",
    "\n",
    "RANDOM_TESTS = 10"
   ]
  },
  {
   "cell_type": "markdown",
   "metadata": {},
   "source": [
    "# 1. Number of key comparisons VS Input sizes"
   ]
  },
  {
   "cell_type": "markdown",
   "metadata": {},
   "source": [
    "### 1.1 Plot Average Key Comparisons vs. Input Sizes"
   ]
  },
  {
   "cell_type": "code",
   "execution_count": null,
   "metadata": {},
   "outputs": [],
   "source": [
    "input_sizes, average_key_cmps = HybridSortKeyCmp.average_key_cmps_with_s_fixed(MIN_INPUT_SIZE, MAX_INPUT_SIZE, S_FIXED_LOW, RANDOM_TESTS)\n",
    "# theoretical_average_key_cmps = HybridSortKeyCmp.theoretical_nlogn_graph(input_sizes)\n",
    "\n",
    "plt.plot(input_sizes, average_key_cmps, linestyle='-')\n",
    "# plt.plot(input_sizes, average_key_cmps, label='Empirical Graph', linestyle='-')\n",
    "# plt.plot(input_sizes, theoretical_average_key_cmps, label='Theoretical Graph', linestyle='-')\n",
    "\n",
    "plt.xlabel('Input Sizes')\n",
    "plt.ylabel('Average Key Comparisons')\n",
    "plt.title('Average Key Comparisons vs. Input Sizes (S = 10)')\n",
    "\n",
    "# plt.legend()\n",
    "\n",
    "plt.show()"
   ]
  },
  {
   "cell_type": "code",
   "execution_count": null,
   "metadata": {},
   "outputs": [],
   "source": [
    "input_sizes, average_key_cmps = HybridSortKeyCmp.average_key_cmps_with_s_fixed(MIN_INPUT_SIZE, MAX_INPUT_SIZE, S_FIXED_HIGH, RANDOM_TESTS)\n",
    "\n",
    "plt.plot(input_sizes, average_key_cmps, linestyle='-')\n",
    "\n",
    "plt.xlabel('Input Sizes')\n",
    "plt.ylabel('Average Key Comparisons')\n",
    "plt.title('Average Key Comparisons vs. Input Sizes (S = 9_000_000)')\n",
    "\n",
    "plt.show()"
   ]
  },
  {
   "cell_type": "code",
   "execution_count": null,
   "metadata": {},
   "outputs": [],
   "source": [
    "input_sizes, average_key_cmps = HybridSortKeyCmp.average_key_cmps_with_s_fixed(MIN_INPUT_SIZE, MAX_INPUT_SIZE, S_FIXED_MIDDLE, RANDOM_TESTS)\n",
    "\n",
    "plt.plot(input_sizes, average_key_cmps, linestyle='-')\n",
    "\n",
    "plt.xlabel('Input Sizes')\n",
    "plt.ylabel('Average Key Comparisons')\n",
    "plt.title('Average Key Comparisons vs. Input Sizes (S = 5000)')\n",
    "\n",
    "plt.show()"
   ]
  },
  {
   "cell_type": "markdown",
   "metadata": {},
   "source": [
    "### 1.2 Compare Empirical Results with Theoretical Analysis\n",
    "<br>\n",
    "<br>"
   ]
  },
  {
   "cell_type": "markdown",
   "metadata": {},
   "source": [
    "# 2 Number of key comparisons VS S values"
   ]
  },
  {
   "cell_type": "markdown",
   "metadata": {},
   "source": [
    "### 2.1 Plot Average Key Comparisons vs. S Values (2-1000)"
   ]
  },
  {
   "cell_type": "code",
   "execution_count": null,
   "metadata": {},
   "outputs": [],
   "source": [
    "s_values, average_key_cmps = HybridSortKeyCmp.average_key_cmps_with_n_fixed(MIN_S, MAX_S, INPUT_SIZE_FIXED, RANDOM_TESTS)\n",
    "\n",
    "plt.plot(s_values, average_key_cmps, linestyle='-')\n",
    "\n",
    "plt.xlabel('S Values')\n",
    "plt.ylabel('Average Key Comparisons')\n",
    "plt.title('Average Key Comparisons vs. S Values (2-1000)')\n",
    "\n",
    "plt.show()"
   ]
  },
  {
   "cell_type": "markdown",
   "metadata": {},
   "source": [
    "### General Upward Trend\n",
    "\n",
    "As seen from the graph, there is a general upward trend, such that the higher the value of S, the greater the average key comparisons.\n",
    "\n",
    "However, we are interested in finding the optimal S value for the best performance of the hybrid sort algorithm, and this trend is not very informative because the range is too big. \n",
    "\n",
    "We need to further narrow the range of the S values in order to omit the S values with higher numbers of average key comparisons (bad performance) since they won't be useful in finding the optimal S value.\n",
    "\n",
    "On further observation, we can see that the least number of key comparisons revolve around the 2-100 range, so we can reduce MAX_S to 100 to zoom into the portion where the S values perform better."
   ]
  },
  {
   "cell_type": "markdown",
   "metadata": {},
   "source": [
    "### 2.2 Plot Average Key Comparisons vs. S Values (2-100)"
   ]
  },
  {
   "cell_type": "code",
   "execution_count": null,
   "metadata": {},
   "outputs": [],
   "source": [
    "MAX_S_NEW = 100"
   ]
  },
  {
   "cell_type": "code",
   "execution_count": null,
   "metadata": {},
   "outputs": [],
   "source": [
    "s_values, average_key_cmps = HybridSortKeyCmp.average_key_cmps_with_n_fixed(MIN_S, MAX_S_NEW, INPUT_SIZE_FIXED, RANDOM_TESTS)\n",
    "\n",
    "plt.plot(s_values, average_key_cmps, linestyle='-')\n",
    "\n",
    "plt.xlabel('S Values')\n",
    "plt.ylabel('Average Key Comparisons')\n",
    "plt.title(f'Average Key Comparisons vs. S Values (2-100)')\n",
    "\n",
    "plt.show()"
   ]
  },
  {
   "cell_type": "markdown",
   "metadata": {},
   "source": [
    "### Similar Upward Trend\n",
    "\n",
    "Again, we are seeing a similar upward trend as when the range was 2-1000, which means we can further narrow the range to filter out the S values with poor performance.\n",
    "\n",
    "Fortunately, from the graph, we can see that between the range 2-20, the number of average key comparisons seems to be the lowest, which means the S values within this range perform the best. Therefore, we are going to set the MAX_S to be 20 and narrow the range further for a more informative and conclusive graph."
   ]
  },
  {
   "cell_type": "markdown",
   "metadata": {},
   "source": [
    "### 2.3 Plot Average Key Comparisons vs. S Values (2-20)"
   ]
  },
  {
   "cell_type": "code",
   "execution_count": null,
   "metadata": {},
   "outputs": [],
   "source": [
    "MAX_S_FINAL = 20"
   ]
  },
  {
   "cell_type": "code",
   "execution_count": null,
   "metadata": {},
   "outputs": [],
   "source": [
    "s_values, average_key_cmps = HybridSortKeyCmp.average_key_cmps_with_n_fixed(MIN_S, MAX_S_FINAL, INPUT_SIZE_FIXED, RANDOM_TESTS)\n",
    "\n",
    "plt.plot(s_values, average_key_cmps, linestyle='-')\n",
    "\n",
    "plt.xlabel('S Values')\n",
    "plt.ylabel('Average Key Comparisons')\n",
    "plt.title(f'Average Key Comparisons vs. S Values (2-20)')\n",
    "\n",
    "plt.show()"
   ]
  },
  {
   "cell_type": "markdown",
   "metadata": {},
   "source": [
    "### 2.4 Compare Empirical Results with Theoretical Analysis\n",
    "<br>\n",
    "<br>"
   ]
  },
  {
   "cell_type": "markdown",
   "metadata": {},
   "source": [
    "# 3 Determine the optimal S value"
   ]
  },
  {
   "cell_type": "markdown",
   "metadata": {},
   "source": [
    "### 3.1 Plot Average Key Comparisons vs. Array Sizes"
   ]
  },
  {
   "cell_type": "code",
   "execution_count": null,
   "metadata": {},
   "outputs": [],
   "source": [
    "# insertion_sort_array_sizes, mergesort_average_key_cmps, insertion_sort_average_key_cmps = HybridSortKeyCmp.average_key_cmps_for_optimal_s(MIN_S, MAX_S_FINAL, RANDOM_TESTS)\n",
    "# mergesort_array_sizes = insertion_sort_array_sizes\n",
    "\n",
    "# plt.plot(insertion_sort_array_sizes, insertion_sort_average_key_cmps, label='Insetion Sort', linestyle='-')\n",
    "# plt.plot(mergesort_array_sizes, mergesort_average_key_cmps, label='Mergesort', linestyle='-')\n",
    "\n",
    "# plt.xlabel('Array Sizes')\n",
    "# plt.ylabel('Average Key Comparisons')\n",
    "# plt.title('Average Key Comparisons vs. Array Sizes')\n",
    "\n",
    "# plt.legend()\n",
    "\n",
    "# plt.show()\n",
    "\n",
    "def find_intersection_point(insertion_sort_array_sizes, insertion_sort_average_key_cmps, mergesort_average_key_cmps):\n",
    "    for i, (insertion_cmp, mergesort_cmp) in enumerate(zip(insertion_sort_average_key_cmps, mergesort_average_key_cmps)):\n",
    "        if insertion_cmp == mergesort_cmp:\n",
    "            return insertion_sort_array_sizes[i]\n",
    "    return None  # If no intersection point is found\n",
    "\n",
    "\n",
    "intersection_points = []\n",
    "\n",
    "for _ in range(100):\n",
    "    insertion_sort_array_sizes, mergesort_average_key_cmps, insertion_sort_average_key_cmps = HybridSortKeyCmp.average_key_cmps_for_optimal_s(MIN_S, MAX_S_FINAL, RANDOM_TESTS)\n",
    "    mergesort_array_sizes = insertion_sort_array_sizes\n",
    "    intersection_point = find_intersection_point(insertion_sort_array_sizes, insertion_sort_average_key_cmps, mergesort_average_key_cmps)\n",
    "    if intersection_point is not None:\n",
    "        intersection_points.append(intersection_point)\n",
    "\n",
    "if intersection_points:\n",
    "    max_intersection = max(intersection_points)\n",
    "    min_intersection = min(intersection_points)\n",
    "    mean_intersection = sum(intersection_points) / len(intersection_points)\n",
    "\n",
    "    print(f\"Max Optimal S: {max_intersection}\")\n",
    "    print(f\"Min Optimal S: {min_intersection}\")\n",
    "    print(f\"Mean Optimal S: {mean_intersection}\")\n",
    "else:\n",
    "    print(\"No intersection points found in 100 iterations.\")\n"
   ]
  }
 ],
 "metadata": {
  "kernelspec": {
   "display_name": "Python 3",
   "language": "python",
   "name": "python3"
  },
  "language_info": {
   "codemirror_mode": {
    "name": "ipython",
    "version": 3
   },
   "file_extension": ".py",
   "mimetype": "text/x-python",
   "name": "python",
   "nbconvert_exporter": "python",
   "pygments_lexer": "ipython3",
   "version": "3.10.6"
  }
 },
 "nbformat": 4,
 "nbformat_minor": 2
}
